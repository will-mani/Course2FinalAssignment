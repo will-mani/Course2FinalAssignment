{
 "cells": [
  {
   "cell_type": "markdown",
   "id": "862b4ef9",
   "metadata": {},
   "source": [
    "# Data Science Tools and Ecosystem"
   ]
  },
  {
   "cell_type": "markdown",
   "id": "f300ee30",
   "metadata": {},
   "source": [
    "*This notebook contains a summary of Data Science tools.*"
   ]
  },
  {
   "cell_type": "markdown",
   "id": "0a7fac98",
   "metadata": {},
   "source": [
    "**Objectives:**\n",
    "- Popular Data Science languages\n",
    "- Popular Data Science libraries\n",
    "- Common Data Science development tools\n",
    "- Examples of arithmetic expressions in Python"
   ]
  },
  {
   "cell_type": "markdown",
   "id": "a08d93fb",
   "metadata": {},
   "source": [
    "Some popular languages used in Data Science include:\n",
    "1. Python\n",
    "2. R\n",
    "3. SQL"
   ]
  },
  {
   "cell_type": "markdown",
   "id": "b63bd28a",
   "metadata": {},
   "source": [
    "Some commonly used libraries in Data Science include:\n",
    "1. Matplotlib (in Python)\n",
    "2. Numpy (in Python)\n",
    "3. ggplot2 (in R)"
   ]
  },
  {
   "cell_type": "markdown",
   "id": "d22a02e1",
   "metadata": {},
   "source": [
    "| Data Science Tools |\n",
    "| ------------------ |\n",
    "| Jupyter |\n",
    "| RStudio |\n",
    "| Spyder |"
   ]
  },
  {
   "cell_type": "markdown",
   "id": "45fb6ea5",
   "metadata": {},
   "source": [
    "### Below are some examples of evaluating arithmetic expressions in Python"
   ]
  },
  {
   "cell_type": "code",
   "execution_count": 7,
   "id": "93563505",
   "metadata": {},
   "outputs": [
    {
     "data": {
      "text/plain": [
       "17"
      ]
     },
     "execution_count": 7,
     "metadata": {},
     "output_type": "execute_result"
    }
   ],
   "source": [
    "# Simple arithmetic expression with multiplication followed by addition\n",
    "(3*4)+5"
   ]
  },
  {
   "cell_type": "code",
   "execution_count": 4,
   "id": "0e88a7d4",
   "metadata": {},
   "outputs": [
    {
     "data": {
      "text/plain": [
       "3.3333333333333335"
      ]
     },
     "execution_count": 4,
     "metadata": {},
     "output_type": "execute_result"
    }
   ],
   "source": [
    "# Converting 200 minutes to hours (by dividing by 60)\n",
    "200/60"
   ]
  },
  {
   "cell_type": "markdown",
   "id": "d49dd898",
   "metadata": {},
   "source": [
    "## Author\n",
    "William Manirakiza"
   ]
  }
 ],
 "metadata": {
  "kernelspec": {
   "display_name": "Python 3 (ipykernel)",
   "language": "python",
   "name": "python3"
  },
  "language_info": {
   "codemirror_mode": {
    "name": "ipython",
    "version": 3
   },
   "file_extension": ".py",
   "mimetype": "text/x-python",
   "name": "python",
   "nbconvert_exporter": "python",
   "pygments_lexer": "ipython3",
   "version": "3.10.9"
  }
 },
 "nbformat": 4,
 "nbformat_minor": 5
}
